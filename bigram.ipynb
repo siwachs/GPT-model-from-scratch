{
 "cells": [
  {
   "cell_type": "code",
   "execution_count": 13,
   "id": "4e36f774-c490-4929-b411-5be8d8170d26",
   "metadata": {},
   "outputs": [
    {
     "name": "stdout",
     "output_type": "stream",
     "text": [
      "cuda\n"
     ]
    }
   ],
   "source": [
    "import torch # ML framework: It use tensor DS for math and calculus\n",
    "import torch.nn as nn\n",
    "from torch.nn import functional as F\n",
    "\n",
    "device = 'cuda' if torch.cuda.is_available() else 'cpu'\n",
    "print(device)\n",
    "\n",
    "# Hyperpara\n",
    "block_size = 8\n",
    "batch_size = 4 # How many blocks we process in ||\n",
    "max_iters = 1000\n",
    "eval_iters = 250\n",
    "learning_rate = 3e-4\n",
    "dropout = 0.2 # drop 20% random neurons"
   ]
  },
  {
   "cell_type": "code",
   "execution_count": 14,
   "id": "a9538ebb-13b9-4aaa-b146-700513f280d2",
   "metadata": {},
   "outputs": [
    {
     "name": "stdout",
     "output_type": "stream",
     "text": [
      "['\\n', ' ', '!', '\"', '&', \"'\", '(', ')', '*', ',', '-', '.', '0', '1', '2', '3', '4', '5', '6', '7', '8', '9', ':', ';', '?', 'A', 'B', 'C', 'D', 'E', 'F', 'G', 'H', 'I', 'J', 'K', 'L', 'M', 'N', 'O', 'P', 'Q', 'R', 'S', 'T', 'U', 'V', 'W', 'Y', 'Z', '[', ']', '_', 'a', 'b', 'c', 'd', 'e', 'f', 'g', 'h', 'i', 'j', 'k', 'l', 'm', 'n', 'o', 'p', 'q', 'r', 's', 't', 'u', 'v', 'w', 'x', 'y', 'z', '\\ufeff']\n",
      "80\n"
     ]
    }
   ],
   "source": [
    "with open('data/magic_of_oz.txt', 'r', encoding='utf-8') as file:\n",
    "    text = file.read()\n",
    "chars = sorted(set(text))\n",
    "vocab_size = len(chars) # How many unique chars in dataset\n",
    "print(chars)\n",
    "print(vocab_size)\n",
    "\n"
   ]
  },
  {
   "cell_type": "code",
   "execution_count": 15,
   "id": "9e978746-03eb-49db-863d-0f330b48df6f",
   "metadata": {},
   "outputs": [
    {
     "name": "stdout",
     "output_type": "stream",
     "text": [
      "tensor([79,  1,  1,  1,  1,  1,  1,  1,  1,  1,  1,  1,  1,  1,  1,  1,  1,  1,\n",
      "         1,  1,  1,  1,  1,  1,  1,  1,  1,  1,  1,  1, 50, 33, 64, 64, 73, 71,\n",
      "        72, 70, 53, 72, 61, 67, 66, 51,  0,  0,  0,  0,  0,  1,  1,  1,  1,  1,\n",
      "         1,  1,  1,  1,  1,  1,  1,  1,  1,  1,  1,  1,  1,  1,  1,  1,  1,  1,\n",
      "         1,  1,  1, 44, 60, 57,  1, 30, 53, 65, 67, 73, 71,  1, 39, 78,  1, 26,\n",
      "        67, 67, 63, 71,  0,  0,  0, 43, 61, 66])\n"
     ]
    }
   ],
   "source": [
    "# tokenization -> encoding/deconding encoding convert each char to int\n",
    "\n",
    "string_to_int = { char:index for index,char in enumerate(chars) }\n",
    "int_to_string = { index:char for index,char in enumerate(chars) }\n",
    "encode = lambda string: [string_to_int[char] for char in string]\n",
    "decode = lambda int_list: ''.join([int_to_string[int] for int in int_list])\n",
    "\n",
    "data = torch.tensor(encode(text), dtype=torch.long)\n",
    "print(data[:100])\n",
    "\n"
   ]
  },
  {
   "cell_type": "code",
   "execution_count": 16,
   "id": "0aa508cc-da99-4836-ab65-ff309067e460",
   "metadata": {},
   "outputs": [],
   "source": [
    "# Validation and training split\n",
    "n = int(0.08 * len(data))\n",
    "train_data = data[:n]\n",
    "validation_data = data[n:]\n"
   ]
  },
  {
   "cell_type": "code",
   "execution_count": 29,
   "id": "36381cd2-b29f-43c4-836c-2c6cef04d618",
   "metadata": {},
   "outputs": [
    {
     "name": "stdout",
     "output_type": "stream",
     "text": [
      "Inputs:\n",
      "tensor([[67, 73, 66, 72,  1, 37, 73, 66],\n",
      "        [61, 63, 57,  1, 53,  1, 71, 53],\n",
      "        [55, 53, 64, 64, 57, 56,  1, 60],\n",
      "        [ 1,  1,  1,  1,  1, 27, 60, 61]], device='cuda:0')\n",
      "Target:\n",
      "tensor([[73, 66, 72,  1, 37, 73, 66, 55],\n",
      "        [63, 57,  1, 53,  1, 71, 53, 73],\n",
      "        [53, 64, 64, 57, 56,  1, 60, 61],\n",
      "        [ 1,  1,  1,  1, 27, 60, 61, 55]], device='cuda:0')\n"
     ]
    }
   ],
   "source": [
    "def get_batch(split):\n",
    "    data = train_data if split == 'train' else validation_data\n",
    "    ix = torch.randint(0, len(data) - block_size, (batch_size, ))\n",
    "    # print(f\"Random indices: {ix}\")\n",
    "    x = torch.stack([data[i: i+block_size] for i in ix])\n",
    "    y = torch.stack([data[i+1: i+block_size+1] for i in ix])\n",
    "    x, y = x.to(device), y.to(device) # Push data to GPU means its calc handled by GPU\n",
    "    return x, y\n",
    "\n",
    "x, y = get_batch('train')\n",
    "print('Inputs:')\n",
    "print(x)\n",
    "print('Target:')\n",
    "print(y)"
   ]
  },
  {
   "cell_type": "code",
   "execution_count": 18,
   "id": "7ce099c5-2e7c-4590-bd4a-d4e3d2cdbb11",
   "metadata": {},
   "outputs": [
    {
     "name": "stdout",
     "output_type": "stream",
     "text": [
      "When input is tensor([79]) target is 1\n",
      "When input is tensor([79,  1]) target is 1\n",
      "When input is tensor([79,  1,  1]) target is 1\n",
      "When input is tensor([79,  1,  1,  1]) target is 1\n",
      "When input is tensor([79,  1,  1,  1,  1]) target is 1\n",
      "When input is tensor([79,  1,  1,  1,  1,  1]) target is 1\n",
      "When input is tensor([79,  1,  1,  1,  1,  1,  1]) target is 1\n",
      "When input is tensor([79,  1,  1,  1,  1,  1,  1,  1]) target is 1\n"
     ]
    }
   ],
   "source": [
    "# Bigram example\n",
    "x = train_data[: block_size]\n",
    "y = train_data[1: block_size+1]\n",
    "\n",
    "for t in range(block_size):\n",
    "    context = x[: t+1]\n",
    "    target = y[t]\n",
    "    print(f\"When input is {context} target is {target}\")"
   ]
  },
  {
   "cell_type": "code",
   "execution_count": 19,
   "id": "8276a30b-1fd7-4967-8ea0-5d94e8fdc9de",
   "metadata": {},
   "outputs": [],
   "source": [
    "# decorator is used in PyTorch to temporarily disable gradient computation during the execution of the decorated function or code block.\n",
    "@torch.no_grad()\n",
    "def estimate_loss():\n",
    "    out = {}\n",
    "    model.eval() # Set the model to evaluation mode\n",
    "    for split in ['train', 'val']:\n",
    "        losses = torch.zeros(eval_iters)\n",
    "        for k in range(eval_iters):\n",
    "            X, Y = get_batch(split)\n",
    "            logits, loss = model(X, Y)\n",
    "            losses[k] = loss.item()\n",
    "        out[split] = losses.mean()\n",
    "    model.train() # Set the model back to training mode\n",
    "    return out"
   ]
  },
  {
   "cell_type": "code",
   "execution_count": 20,
   "id": "1a153eb8-138a-49b1-99a2-ed71f21773ae",
   "metadata": {},
   "outputs": [
    {
     "data": {
      "text/plain": [
       "'\\nryWBhQGHVGd&\\n1x1sZ?&WVl_BvHCE3T[e\\ufeffOSZ0lD(,\\'uCOcdCicUD,*O\"HLTfbvz:VVjjtv3\\ufeff!SC&SfU)\\nrWBhbpGdpoTi0loD\"C,&(K07QGC\"j-2)6UR)o4ql\\'i(RID;vaHV8VZAo_oAfJs87yBhBid943TGkEN7\\ufeffLMVk?-xa2Q4v\\nDMR-.8;Z56U&[vS&(\"JYQ9D:bjq]rr7nT[kNEbG2_T_r\\ufeffvjeAH9P\\'6-r47J,R9x\\ufeffJx,3\\ufeff5d;x(K&D-j7b:7zNl:0 \"0;&Wla6]&yZH79[PaPR_R:U&dM?l&\\'r\\'iJr?Isnrrr8e*OSVd!hcd!\\ntGj0j)M-tq1rrLFy]K&,?H]mf:20\")\\nrVEtR,YQt2TDlD0J\\'5RU*ogkPh2MYBh:nB\\';tu2O075e\\'xy*(d?9!\\',K[U)tsCv]kST5:UQR)9*;g\\nfYu\\nx:UKebZ-Cwc8GvHDWjRSsVxnT7. \\n0yT[gH_PxZD8k(\"ief7SmY.3\\ufeffvjmMZH.HI-.FV'"
      ]
     },
     "execution_count": 20,
     "metadata": {},
     "output_type": "execute_result"
    }
   ],
   "source": [
    "# nn.Module is a fundamental building block used to create neural network architectures. It's a base class for all neural network modules.\n",
    "# provides methods for various functionalities like managing parameters, defining layers, and executing forward propagation.\n",
    "class BigramLanguageModel(nn.Module):\n",
    "    def __init__(self, vocab_size):\n",
    "        super().__init__()\n",
    "        self.token_embedding_table = nn.Embedding(vocab_size, vocab_size)\n",
    "    \n",
    "    def forward(self, index, targets=None):\n",
    "        logits = self.token_embedding_table(index)\n",
    "        \n",
    "        if targets is None:\n",
    "           loss = None\n",
    "        else:\n",
    "            B, T, C = logits.shape # Batch, Time, Channels is vocab_size\n",
    "            logits = logits.view(B*T, C)\n",
    "            targets = targets.view(B * T)\n",
    "            loss = F.cross_entropy(logits, targets)\n",
    "        return logits, loss\n",
    "    \n",
    "    def generate(self, index, max_new_tokens):\n",
    "        # index is (B, T) array of indices in current context\n",
    "        for _ in range(max_new_tokens):\n",
    "            logits, loss = self.forward(index) # Logits are the raw scores or probabilities that a model assigns to each class\n",
    "            \n",
    "            logits = logits[:, -1, :] # On last time step became (B, C)\n",
    "            probs = F.softmax(logits, dim=-1) # Apply softmax for probablities\n",
    "            index_next = torch.multinomial(probs, num_samples=1) # Sample from distribution (B, 1)\n",
    "            index = torch.cat((index, index_next), dim=1) # Append sample index to running index (B, T+1)\n",
    "        return index\n",
    "\n",
    "model = BigramLanguageModel(vocab_size)\n",
    "m = model.to(device)\n",
    "\n",
    "context = torch.zeros((1, 1), dtype=torch.long, device=device) # torch.long in int64 integer\n",
    "generated_chars = decode(m.generate(context, max_new_tokens=500)[0].tolist())\n",
    "generated_chars"
   ]
  },
  {
   "cell_type": "code",
   "execution_count": 36,
   "id": "60eff385-7bd4-4289-8c97-8fa1c60f6f0e",
   "metadata": {},
   "outputs": [
    {
     "name": "stdout",
     "output_type": "stream",
     "text": [
      "step: 0, train loss: 2.8810 val loss: 3.0407\n",
      "step: 250, train loss: 2.8867 val loss: 3.0459\n",
      "step: 500, train loss: 2.8751 val loss: 3.0159\n",
      "step: 750, train loss: 2.8560 val loss: 3.0105\n",
      "3.040534734725952\n"
     ]
    }
   ],
   "source": [
    "# Pytorch optimizer\n",
    "optimizer = torch.optim.AdamW(model.parameters(), lr=learning_rate)\n",
    "\n",
    "for iter in range(max_iters):\n",
    "    xb, yb = get_batch('train')\n",
    "    if iter % eval_iters == 0:\n",
    "        losses = estimate_loss()\n",
    "        print(f\"step: {iter}, train loss: {losses['train']:.4f} val loss: {losses['val']:.4f}\")\n",
    "\n",
    "    # Eval loss\n",
    "    logits, loss = model.forward(xb, yb)\n",
    "    optimizer.zero_grad(set_to_none=True) # It reset prev gradients so they do not add with current gradient\n",
    "    loss.backward()\n",
    "    optimizer.step()\n",
    "print(loss.item())"
   ]
  },
  {
   "cell_type": "code",
   "execution_count": 22,
   "id": "ff57b0f6-88af-4a34-ab3a-7217c23baf83",
   "metadata": {},
   "outputs": [
    {
     "data": {
      "text/plain": [
       "'\\n!\")]-;Fw6fb]K&_\\ufefftahxc5shFxx8mQJTDSUR_FV\\ufeffOStttF4BhF(8s[\"p\"6.H.8(d2_\\nN2Wu]\\'gYyNon7hFM:3;rrhuZ&eFmL sj)9u.cS5gBJ!SZ!VME!(,\\nBf&W99Pwe&(KNc5:;J5vEy*\\ufefflI&Lv\\ufeffZ,mg0huA)MrA!Dcc,Gv8AxCa&_!sxnS1\\nW6otJ6G BhykSe5\"5eYj&JsG_d4Du,&(8h\\nV?DxC\\ng]r21xzHVMKBWliGH82_5 BUPf[?*1yM!Ndxw:K0SZoz7bL TkcBh.4qsGaPfBlont7bk(2&\\'nocj0j[\\'sEj5P95R*GvpGb6-Lc5Uo,bLuRkgA6go:U,pJO?0.0hcgw\\'DMEAZZ,OnQA4)6AGR)l5_6k?:UWq?eGIRNdy_\\']ycJBpK0F4qZ\\ufeffLaloS.?F4QH2H75,381nZ ,\\'&_4zSVifzPBj\\n0i W6v0jK\"7HDWxCgV[ Il!l3rU0yH_J\\'-n)MEQ*eY]K b_6fVk;g;hBhINc'"
      ]
     },
     "execution_count": 22,
     "metadata": {},
     "output_type": "execute_result"
    }
   ],
   "source": [
    "context = torch.zeros((1, 1), dtype=torch.long, device=device)\n",
    "generated_chars = decode(m.generate(context, max_new_tokens=500)[0].tolist())\n",
    "generated_chars"
   ]
  },
  {
   "cell_type": "code",
   "execution_count": null,
   "id": "8cfdc0e5-e042-4e19-912f-036919277e3c",
   "metadata": {},
   "outputs": [],
   "source": []
  }
 ],
 "metadata": {
  "kernelspec": {
   "display_name": "cuda-gpt",
   "language": "python",
   "name": "gpt-model-from-scratch"
  },
  "language_info": {
   "codemirror_mode": {
    "name": "ipython",
    "version": 3
   },
   "file_extension": ".py",
   "mimetype": "text/x-python",
   "name": "python",
   "nbconvert_exporter": "python",
   "pygments_lexer": "ipython3",
   "version": "3.11.5"
  }
 },
 "nbformat": 4,
 "nbformat_minor": 5
}
