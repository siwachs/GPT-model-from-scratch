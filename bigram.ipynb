{
 "cells": [
  {
   "cell_type": "code",
   "execution_count": 34,
   "id": "a9538ebb-13b9-4aaa-b146-700513f280d2",
   "metadata": {},
   "outputs": [
    {
     "name": "stdout",
     "output_type": "stream",
     "text": [
      "['\\n', ' ', '!', '\"', '&', \"'\", '(', ')', '*', ',', '-', '.', '0', '1', '2', '3', '4', '5', '6', '7', '8', '9', ':', ';', '?', 'A', 'B', 'C', 'D', 'E', 'F', 'G', 'H', 'I', 'J', 'K', 'L', 'M', 'N', 'O', 'P', 'Q', 'R', 'S', 'T', 'U', 'V', 'W', 'Y', 'Z', '[', ']', '_', 'a', 'b', 'c', 'd', 'e', 'f', 'g', 'h', 'i', 'j', 'k', 'l', 'm', 'n', 'o', 'p', 'q', 'r', 's', 't', 'u', 'v', 'w', 'x', 'y', 'z', '\\ufeff']\n",
      "80\n"
     ]
    }
   ],
   "source": [
    "with open('data/magic_of_oz.txt', 'r', encoding='utf-8') as file:\n",
    "    text = file.read()\n",
    "chars = sorted(set(text))\n",
    "vocab_size = len(chars)\n",
    "print(chars)\n",
    "print(vocab_size)"
   ]
  },
  {
   "cell_type": "code",
   "execution_count": 35,
   "id": "9e978746-03eb-49db-863d-0f330b48df6f",
   "metadata": {},
   "outputs": [
    {
     "name": "stdout",
     "output_type": "stream",
     "text": [
      "[43, 72, 70, 61, 66, 59, 1, 72, 67, 1, 61, 66, 72]\n",
      "String to int\n"
     ]
    }
   ],
   "source": [
    "# tokenization -> encoding/deconding encoding convert each char to int\n",
    "\n",
    "string_to_int = { char:index for index,char in enumerate(chars) }\n",
    "int_to_string = { index:char for index,char in enumerate(chars) }\n",
    "encode = lambda string: [string_to_int[char] for char in string]\n",
    "decode = lambda int_list: ''.join([int_to_string[int] for int in int_list])\n",
    "\n",
    "print(encode('String to int'))\n",
    "print(decode([43, 72, 70, 61, 66, 59, 1, 72, 67, 1, 61, 66, 72]))"
   ]
  },
  {
   "cell_type": "code",
   "execution_count": null,
   "id": "0aa508cc-da99-4836-ab65-ff309067e460",
   "metadata": {},
   "outputs": [],
   "source": []
  }
 ],
 "metadata": {
  "kernelspec": {
   "display_name": "cuda-gpt",
   "language": "python",
   "name": "gpt-model-from-scratch"
  },
  "language_info": {
   "codemirror_mode": {
    "name": "ipython",
    "version": 3
   },
   "file_extension": ".py",
   "mimetype": "text/x-python",
   "name": "python",
   "nbconvert_exporter": "python",
   "pygments_lexer": "ipython3",
   "version": "3.11.5"
  }
 },
 "nbformat": 4,
 "nbformat_minor": 5
}
