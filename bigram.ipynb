{
 "cells": [
  {
   "cell_type": "code",
   "execution_count": 73,
   "id": "4e36f774-c490-4929-b411-5be8d8170d26",
   "metadata": {},
   "outputs": [
    {
     "name": "stdout",
     "output_type": "stream",
     "text": [
      "cuda\n"
     ]
    }
   ],
   "source": [
    "import torch # ML framework: It use tensor DS for math and calculus\n",
    "device = 'cuda' if torch.cuda.is_available() else 'cpu'\n",
    "print(device)\n",
    "\n",
    "# Hyperpara\n",
    "block_size = 8\n",
    "batch_size = 4 # How many blocks we process in ||"
   ]
  },
  {
   "cell_type": "code",
   "execution_count": 74,
   "id": "a9538ebb-13b9-4aaa-b146-700513f280d2",
   "metadata": {},
   "outputs": [
    {
     "name": "stdout",
     "output_type": "stream",
     "text": [
      "['\\n', ' ', '!', '\"', '&', \"'\", '(', ')', '*', ',', '-', '.', '0', '1', '2', '3', '4', '5', '6', '7', '8', '9', ':', ';', '?', 'A', 'B', 'C', 'D', 'E', 'F', 'G', 'H', 'I', 'J', 'K', 'L', 'M', 'N', 'O', 'P', 'Q', 'R', 'S', 'T', 'U', 'V', 'W', 'Y', 'Z', '[', ']', '_', 'a', 'b', 'c', 'd', 'e', 'f', 'g', 'h', 'i', 'j', 'k', 'l', 'm', 'n', 'o', 'p', 'q', 'r', 's', 't', 'u', 'v', 'w', 'x', 'y', 'z', '\\ufeff']\n",
      "80\n"
     ]
    }
   ],
   "source": [
    "with open('data/magic_of_oz.txt', 'r', encoding='utf-8') as file:\n",
    "    text = file.read()\n",
    "chars = sorted(set(text))\n",
    "vocab_size = len(chars)\n",
    "print(chars)\n",
    "print(vocab_size)\n",
    "\n"
   ]
  },
  {
   "cell_type": "code",
   "execution_count": 75,
   "id": "9e978746-03eb-49db-863d-0f330b48df6f",
   "metadata": {},
   "outputs": [
    {
     "name": "stdout",
     "output_type": "stream",
     "text": [
      "tensor([79,  1,  1,  1,  1,  1,  1,  1,  1,  1,  1,  1,  1,  1,  1,  1,  1,  1,\n",
      "         1,  1,  1,  1,  1,  1,  1,  1,  1,  1,  1,  1, 50, 33, 64, 64, 73, 71,\n",
      "        72, 70, 53, 72, 61, 67, 66, 51,  0,  0,  0,  0,  0,  1,  1,  1,  1,  1,\n",
      "         1,  1,  1,  1,  1,  1,  1,  1,  1,  1,  1,  1,  1,  1,  1,  1,  1,  1,\n",
      "         1,  1,  1, 44, 60, 57,  1, 30, 53, 65, 67, 73, 71,  1, 39, 78,  1, 26,\n",
      "        67, 67, 63, 71,  0,  0,  0, 43, 61, 66])\n"
     ]
    }
   ],
   "source": [
    "# tokenization -> encoding/deconding encoding convert each char to int\n",
    "\n",
    "string_to_int = { char:index for index,char in enumerate(chars) }\n",
    "int_to_string = { index:char for index,char in enumerate(chars) }\n",
    "encode = lambda string: [string_to_int[char] for char in string]\n",
    "decode = lambda int_list: ''.join([int_to_string[int] for int in int_list])\n",
    "\n",
    "data = torch.tensor(encode(text), dtype=torch.long)\n",
    "print(data[:100])\n",
    "\n"
   ]
  },
  {
   "cell_type": "code",
   "execution_count": 76,
   "id": "0aa508cc-da99-4836-ab65-ff309067e460",
   "metadata": {},
   "outputs": [],
   "source": [
    "# Validation and training split\n",
    "n = int(0.08 * len(data))\n",
    "train_data = data[:n]\n",
    "validation_data = data[n:]\n",
    "\n"
   ]
  },
  {
   "cell_type": "code",
   "execution_count": 77,
   "id": "36381cd2-b29f-43c4-836c-2c6cef04d618",
   "metadata": {},
   "outputs": [
    {
     "name": "stdout",
     "output_type": "stream",
     "text": [
      "When input is tensor([79]) target is 1\n",
      "When input is tensor([79,  1]) target is 1\n",
      "When input is tensor([79,  1,  1]) target is 1\n",
      "When input is tensor([79,  1,  1,  1]) target is 1\n",
      "When input is tensor([79,  1,  1,  1,  1]) target is 1\n",
      "When input is tensor([79,  1,  1,  1,  1,  1]) target is 1\n",
      "When input is tensor([79,  1,  1,  1,  1,  1,  1]) target is 1\n",
      "When input is tensor([79,  1,  1,  1,  1,  1,  1,  1]) target is 1\n"
     ]
    }
   ],
   "source": [
    "x = train_data[:block_size]\n",
    "y = train_data[1:block_size+1]\n",
    "\n",
    "for t in range(block_size):\n",
    "    context = x[:t+1]\n",
    "    target = y[t]\n",
    "    print(f\"When input is {context} target is {target}\")"
   ]
  },
  {
   "cell_type": "code",
   "execution_count": null,
   "id": "7ce099c5-2e7c-4590-bd4a-d4e3d2cdbb11",
   "metadata": {},
   "outputs": [],
   "source": []
  }
 ],
 "metadata": {
  "kernelspec": {
   "display_name": "cuda-gpt",
   "language": "python",
   "name": "gpt-model-from-scratch"
  },
  "language_info": {
   "codemirror_mode": {
    "name": "ipython",
    "version": 3
   },
   "file_extension": ".py",
   "mimetype": "text/x-python",
   "name": "python",
   "nbconvert_exporter": "python",
   "pygments_lexer": "ipython3",
   "version": "3.11.5"
  }
 },
 "nbformat": 4,
 "nbformat_minor": 5
}
