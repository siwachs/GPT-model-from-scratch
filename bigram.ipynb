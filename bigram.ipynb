{
 "cells": [
  {
   "cell_type": "code",
   "execution_count": 107,
   "id": "4e36f774-c490-4929-b411-5be8d8170d26",
   "metadata": {},
   "outputs": [
    {
     "name": "stdout",
     "output_type": "stream",
     "text": [
      "cuda\n"
     ]
    }
   ],
   "source": [
    "import torch # ML framework: It use tensor DS for math and calculus\n",
    "import torch.nn as nn\n",
    "from torch.nn import functional as F\n",
    "\n",
    "device = 'cuda' if torch.cuda.is_available() else 'cpu'\n",
    "print(device)\n",
    "\n",
    "# Hyperpara\n",
    "block_size = 8\n",
    "batch_size = 4 # How many blocks we process in ||"
   ]
  },
  {
   "cell_type": "code",
   "execution_count": 108,
   "id": "a9538ebb-13b9-4aaa-b146-700513f280d2",
   "metadata": {},
   "outputs": [
    {
     "name": "stdout",
     "output_type": "stream",
     "text": [
      "['\\n', ' ', '!', '\"', '&', \"'\", '(', ')', '*', ',', '-', '.', '0', '1', '2', '3', '4', '5', '6', '7', '8', '9', ':', ';', '?', 'A', 'B', 'C', 'D', 'E', 'F', 'G', 'H', 'I', 'J', 'K', 'L', 'M', 'N', 'O', 'P', 'Q', 'R', 'S', 'T', 'U', 'V', 'W', 'Y', 'Z', '[', ']', '_', 'a', 'b', 'c', 'd', 'e', 'f', 'g', 'h', 'i', 'j', 'k', 'l', 'm', 'n', 'o', 'p', 'q', 'r', 's', 't', 'u', 'v', 'w', 'x', 'y', 'z', '\\ufeff']\n",
      "80\n"
     ]
    }
   ],
   "source": [
    "with open('data/magic_of_oz.txt', 'r', encoding='utf-8') as file:\n",
    "    text = file.read()\n",
    "chars = sorted(set(text))\n",
    "vocab_size = len(chars) # How many unique chars in dataset\n",
    "print(chars)\n",
    "print(vocab_size)\n",
    "\n"
   ]
  },
  {
   "cell_type": "code",
   "execution_count": 109,
   "id": "9e978746-03eb-49db-863d-0f330b48df6f",
   "metadata": {},
   "outputs": [
    {
     "name": "stdout",
     "output_type": "stream",
     "text": [
      "tensor([79,  1,  1,  1,  1,  1,  1,  1,  1,  1,  1,  1,  1,  1,  1,  1,  1,  1,\n",
      "         1,  1,  1,  1,  1,  1,  1,  1,  1,  1,  1,  1, 50, 33, 64, 64, 73, 71,\n",
      "        72, 70, 53, 72, 61, 67, 66, 51,  0,  0,  0,  0,  0,  1,  1,  1,  1,  1,\n",
      "         1,  1,  1,  1,  1,  1,  1,  1,  1,  1,  1,  1,  1,  1,  1,  1,  1,  1,\n",
      "         1,  1,  1, 44, 60, 57,  1, 30, 53, 65, 67, 73, 71,  1, 39, 78,  1, 26,\n",
      "        67, 67, 63, 71,  0,  0,  0, 43, 61, 66])\n"
     ]
    }
   ],
   "source": [
    "# tokenization -> encoding/deconding encoding convert each char to int\n",
    "\n",
    "string_to_int = { char:index for index,char in enumerate(chars) }\n",
    "int_to_string = { index:char for index,char in enumerate(chars) }\n",
    "encode = lambda string: [string_to_int[char] for char in string]\n",
    "decode = lambda int_list: ''.join([int_to_string[int] for int in int_list])\n",
    "\n",
    "data = torch.tensor(encode(text), dtype=torch.long)\n",
    "print(data[:100])\n",
    "\n"
   ]
  },
  {
   "cell_type": "code",
   "execution_count": 110,
   "id": "0aa508cc-da99-4836-ab65-ff309067e460",
   "metadata": {},
   "outputs": [],
   "source": [
    "# Validation and training split\n",
    "n = int(0.08 * len(data))\n",
    "train_data = data[:n]\n",
    "validation_data = data[n:]\n"
   ]
  },
  {
   "cell_type": "code",
   "execution_count": 111,
   "id": "36381cd2-b29f-43c4-836c-2c6cef04d618",
   "metadata": {},
   "outputs": [
    {
     "name": "stdout",
     "output_type": "stream",
     "text": [
      "Random indices: tensor([ 8651, 10855,  1333,  3469])\n",
      "Inputs:\n",
      "tensor([[67, 72, 60, 57, 70,  1, 43, 67],\n",
      "        [57, 70, 57,  1, 66, 67,  1, 67],\n",
      "        [ 1,  1, 44, 32, 29,  1, 27, 39],\n",
      "        [ 1,  1,  1,  1,  1,  1,  1,  1]], device='cuda:0')\n",
      "Target:\n",
      "tensor([[72, 60, 57, 70,  1, 43, 67, 70],\n",
      "        [70, 57,  1, 66, 67,  1, 67, 66],\n",
      "        [ 1, 44, 32, 29,  1, 27, 39, 47],\n",
      "        [ 1,  1,  1,  1,  1,  1,  1,  1]], device='cuda:0')\n"
     ]
    }
   ],
   "source": [
    "def get_batch(split):\n",
    "    data = train_data if split == 'train' else validation_data\n",
    "    ix = torch.randint(0, len(data) - block_size, (batch_size, ))\n",
    "    print(f\"Random indices: {ix}\")\n",
    "    x = torch.stack([data[i: i+block_size] for i in ix])\n",
    "    y = torch.stack([data[i+1: i+block_size+1] for i in ix])\n",
    "    x, y = x.to(device), y.to(device) # Push data to GPU means its calc handled by GPU\n",
    "    return x, y\n",
    "\n",
    "x, y = get_batch('train')\n",
    "print('Inputs:')\n",
    "print(x)\n",
    "print('Target:')\n",
    "print(y)"
   ]
  },
  {
   "cell_type": "code",
   "execution_count": 112,
   "id": "7ce099c5-2e7c-4590-bd4a-d4e3d2cdbb11",
   "metadata": {},
   "outputs": [
    {
     "name": "stdout",
     "output_type": "stream",
     "text": [
      "When input is tensor([79]) target is 1\n",
      "When input is tensor([79,  1]) target is 1\n",
      "When input is tensor([79,  1,  1]) target is 1\n",
      "When input is tensor([79,  1,  1,  1]) target is 1\n",
      "When input is tensor([79,  1,  1,  1,  1]) target is 1\n",
      "When input is tensor([79,  1,  1,  1,  1,  1]) target is 1\n",
      "When input is tensor([79,  1,  1,  1,  1,  1,  1]) target is 1\n",
      "When input is tensor([79,  1,  1,  1,  1,  1,  1,  1]) target is 1\n"
     ]
    }
   ],
   "source": [
    "# Bigram example\n",
    "x = train_data[: block_size]\n",
    "y = train_data[1: block_size+1]\n",
    "\n",
    "for t in range(block_size):\n",
    "    context = x[: t+1]\n",
    "    target = y[t]\n",
    "    print(f\"When input is {context} target is {target}\")"
   ]
  },
  {
   "cell_type": "code",
   "execution_count": 113,
   "id": "1a153eb8-138a-49b1-99a2-ed71f21773ae",
   "metadata": {},
   "outputs": [],
   "source": [
    "# nn.Module is a fundamental building block used to create neural network architectures. It's a base class for all neural network modules.\n",
    "# provides methods for various functionalities like managing parameters, defining layers, and executing forward propagation.\n",
    "class BigramLanguageModel(nn.Module):\n",
    "    x=2"
   ]
  },
  {
   "cell_type": "code",
   "execution_count": null,
   "id": "60eff385-7bd4-4289-8c97-8fa1c60f6f0e",
   "metadata": {},
   "outputs": [],
   "source": []
  }
 ],
 "metadata": {
  "kernelspec": {
   "display_name": "cuda-gpt",
   "language": "python",
   "name": "gpt-model-from-scratch"
  },
  "language_info": {
   "codemirror_mode": {
    "name": "ipython",
    "version": 3
   },
   "file_extension": ".py",
   "mimetype": "text/x-python",
   "name": "python",
   "nbconvert_exporter": "python",
   "pygments_lexer": "ipython3",
   "version": "3.11.5"
  }
 },
 "nbformat": 4,
 "nbformat_minor": 5
}
