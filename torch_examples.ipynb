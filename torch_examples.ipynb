{
 "cells": [
  {
   "cell_type": "code",
   "execution_count": 50,
   "id": "daedd403-9a3e-490d-a519-5b92ee3ce13a",
   "metadata": {},
   "outputs": [
    {
     "data": {
      "text/plain": [
       "'cuda'"
      ]
     },
     "execution_count": 50,
     "metadata": {},
     "output_type": "execute_result"
    }
   ],
   "source": [
    "import torch\n",
    "import numpy as np\n",
    "import time\n",
    "device = 'cuda' if torch.cuda.is_available() else 'cpu'\n",
    "device"
   ]
  },
  {
   "cell_type": "code",
   "execution_count": 51,
   "id": "33baacff-1ed8-4022-b004-b9d3e0707759",
   "metadata": {},
   "outputs": [
    {
     "data": {
      "text/plain": [
       "tensor([-75,  38,  71,  46,  61,  33])"
      ]
     },
     "execution_count": 51,
     "metadata": {},
     "output_type": "execute_result"
    }
   ],
   "source": [
    "randint = torch.randint(-100,100,(6,))\n",
    "randint"
   ]
  },
  {
   "cell_type": "code",
   "execution_count": 52,
   "id": "1125f0e7-6b7b-419c-a0f2-11ed6a6d4ca7",
   "metadata": {},
   "outputs": [
    {
     "data": {
      "text/plain": [
       "tensor([[0.1000, 0.2000, 2.0000],\n",
       "        [2.0000, 3.0000, 2.0000],\n",
       "        [4.9000, 3.0000, 5.2000]])"
      ]
     },
     "execution_count": 52,
     "metadata": {},
     "output_type": "execute_result"
    }
   ],
   "source": [
    "tensor_ds = torch.tensor([[0.1,0.2,2], [2,3,2], [4.9,3, 5.2]])\n",
    "tensor_ds"
   ]
  },
  {
   "cell_type": "code",
   "execution_count": 53,
   "id": "eda07460-75eb-4982-a7f5-2b74d90578a1",
   "metadata": {},
   "outputs": [
    {
     "data": {
      "text/plain": [
       "tensor([[0., 0., 0.],\n",
       "        [0., 0., 0.]])"
      ]
     },
     "execution_count": 53,
     "metadata": {},
     "output_type": "execute_result"
    }
   ],
   "source": [
    "zeros = torch.zeros(2,3)\n",
    "zeros"
   ]
  },
  {
   "cell_type": "code",
   "execution_count": 54,
   "id": "1e06a2bc-ffc4-446b-950d-8d4edc33385c",
   "metadata": {},
   "outputs": [
    {
     "data": {
      "text/plain": [
       "tensor([[1., 1., 1., 1.],\n",
       "        [1., 1., 1., 1.],\n",
       "        [1., 1., 1., 1.]])"
      ]
     },
     "execution_count": 54,
     "metadata": {},
     "output_type": "execute_result"
    }
   ],
   "source": [
    "ones = torch.ones(3,4)\n",
    "ones"
   ]
  },
  {
   "cell_type": "code",
   "execution_count": 55,
   "id": "15c58168-a4f7-465f-91ae-044df2e3b1f9",
   "metadata": {},
   "outputs": [
    {
     "data": {
      "text/plain": [
       "tensor([[1.0000e-10, 1.0000e-05, 1.0000e+00],\n",
       "        [1.0000e+05, 1.0000e+10, 0.0000e+00]])"
      ]
     },
     "execution_count": 55,
     "metadata": {},
     "output_type": "execute_result"
    }
   ],
   "source": [
    "input = torch.empty(2,3)\n",
    "input"
   ]
  },
  {
   "cell_type": "code",
   "execution_count": 56,
   "id": "511f4677-6c2a-447e-ad9e-09688774d79e",
   "metadata": {},
   "outputs": [
    {
     "data": {
      "text/plain": [
       "tensor([0, 1, 2, 3, 4])"
      ]
     },
     "execution_count": 56,
     "metadata": {},
     "output_type": "execute_result"
    }
   ],
   "source": [
    "arange = torch.arange(5)\n",
    "arange"
   ]
  },
  {
   "cell_type": "code",
   "execution_count": 57,
   "id": "7db2704c-fbf1-4142-93c5-037f1465ba60",
   "metadata": {},
   "outputs": [
    {
     "data": {
      "text/plain": [
       "tensor([ 3.0000,  4.7500,  6.5000,  8.2500, 10.0000])"
      ]
     },
     "execution_count": 57,
     "metadata": {},
     "output_type": "execute_result"
    }
   ],
   "source": [
    "linspace = torch.linspace(3, 10, steps=5)\n",
    "linspace"
   ]
  },
  {
   "cell_type": "code",
   "execution_count": 58,
   "id": "14893fcd-b0d8-4c0a-af97-d8a88f341d17",
   "metadata": {},
   "outputs": [
    {
     "data": {
      "text/plain": [
       "tensor([1.0000e-10, 1.0000e-05, 1.0000e+00, 1.0000e+05, 1.0000e+10])"
      ]
     },
     "execution_count": 58,
     "metadata": {},
     "output_type": "execute_result"
    }
   ],
   "source": [
    "logspace = torch.logspace(start=-10, end=10, steps=5)\n",
    "logspace"
   ]
  },
  {
   "cell_type": "code",
   "execution_count": 59,
   "id": "4dd5b20c-698a-47c2-b13b-141bbf226dbd",
   "metadata": {},
   "outputs": [
    {
     "data": {
      "text/plain": [
       "tensor([[1., 0., 0., 0., 0.],\n",
       "        [0., 1., 0., 0., 0.],\n",
       "        [0., 0., 1., 0., 0.],\n",
       "        [0., 0., 0., 1., 0.],\n",
       "        [0., 0., 0., 0., 1.]])"
      ]
     },
     "execution_count": 59,
     "metadata": {},
     "output_type": "execute_result"
    }
   ],
   "source": [
    "eye = torch.eye(5)\n",
    "eye"
   ]
  },
  {
   "cell_type": "code",
   "execution_count": 60,
   "id": "36cfd132-b96d-40bb-aeac-10fb97b500e9",
   "metadata": {},
   "outputs": [
    {
     "data": {
      "text/plain": [
       "tensor([[4575657222473777152, 4575657222473777152, 4575657222473777152],\n",
       "        [4575657222473777152, 4575657222473777152, 4575657222473777152]])"
      ]
     },
     "execution_count": 60,
     "metadata": {},
     "output_type": "execute_result"
    }
   ],
   "source": [
    "a = torch.empty((2,3), dtype=torch.int64)\n",
    "empty_like = torch.empty_like(a)\n",
    "empty_like"
   ]
  },
  {
   "cell_type": "code",
   "execution_count": 61,
   "id": "ecdc2199-db29-4bf3-af49-59f9d269691c",
   "metadata": {},
   "outputs": [
    {
     "name": "stdout",
     "output_type": "stream",
     "text": [
      "0.0000000000\n"
     ]
    }
   ],
   "source": [
    "# GPU Processing\n",
    "\n",
    "start_time = time.time()\n",
    "\n",
    "zeros = torch.zeros(1, 1)\n",
    "end_time = time.time()\n",
    "\n",
    "elapsed_time = end_time - start_time\n",
    "print(f\"{elapsed_time:.10f}\")"
   ]
  },
  {
   "cell_type": "code",
   "execution_count": 64,
   "id": "edad17ff-b868-4ece-943a-0d76c798ef78",
   "metadata": {},
   "outputs": [
    {
     "name": "stdout",
     "output_type": "stream",
     "text": [
      "0.08780074\n",
      "0.32111025\n",
      "CPU times: total: 3.28 s\n",
      "Wall time: 10.3 s\n"
     ]
    }
   ],
   "source": [
    "%%time   # How much time it takes to execute a block\n",
    "torch_rand1 = torch.rand(100, 100, 100, 100).to(device)\n",
    "torch_rand2 = torch.rand(100, 100, 100, 100).to(device)\n",
    "np_rand1 = torch.rand(100, 100, 100, 100)\n",
    "np_rand2 = torch.rand(100, 100, 100, 100)\n",
    "\n",
    "start_time = time.time()\n",
    "rand = (torch_rand1 @ torch_rand2) # Mul matrix\n",
    "end_time = time.time()\n",
    "\n",
    "elapsed_time = end_time - start_time\n",
    "print(f\"{elapsed_time:.8f}\")\n",
    "\n",
    "start_time = time.time()\n",
    "rand = np.multiply(np_rand1, np_rand2)\n",
    "end_time = time.time()\n",
    "\n",
    "elapsed_time = end_time - start_time\n",
    "print(f\"{elapsed_time:.8f}\")"
   ]
  },
  {
   "cell_type": "code",
   "execution_count": 70,
   "id": "97b9044a-890e-4d8d-9aa6-c69b0d2f7610",
   "metadata": {},
   "outputs": [
    {
     "data": {
      "text/plain": [
       "tensor([1, 1, 1, 1, 1, 1, 1, 1, 1, 1])"
      ]
     },
     "execution_count": 70,
     "metadata": {},
     "output_type": "execute_result"
    }
   ],
   "source": [
    "# Prob. Dist.\n",
    "probabilities = torch.tensor([0.1, 0.9]) # 10% chance get 0 and 90% chance get 1\n",
    "samples = torch.multinomial(probabilities, num_samples=10, replacement=True)\n",
    "samples"
   ]
  },
  {
   "cell_type": "code",
   "execution_count": 72,
   "id": "d32e816f-c0d9-49a2-aec5-8ba2d4203e27",
   "metadata": {},
   "outputs": [
    {
     "data": {
      "text/plain": [
       "tensor([1, 2, 3, 4, 5])"
      ]
     },
     "execution_count": 72,
     "metadata": {},
     "output_type": "execute_result"
    }
   ],
   "source": [
    "tensor = torch.tensor([1, 2, 3, 4])\n",
    "out = torch.cat((tensor, torch.tensor([5])), dim=0)\n",
    "out"
   ]
  },
  {
   "cell_type": "code",
   "execution_count": 73,
   "id": "a0753331-bf84-4e44-ac47-538199477d74",
   "metadata": {},
   "outputs": [
    {
     "data": {
      "text/plain": [
       "tensor([[1., 0., 0., 0., 0.],\n",
       "        [1., 1., 0., 0., 0.],\n",
       "        [1., 1., 1., 0., 0.],\n",
       "        [1., 1., 1., 1., 0.],\n",
       "        [1., 1., 1., 1., 1.]])"
      ]
     },
     "execution_count": 73,
     "metadata": {},
     "output_type": "execute_result"
    }
   ],
   "source": [
    "# Lower Triangle\n",
    "out = torch.tril(torch.ones(5, 5))\n",
    "out"
   ]
  },
  {
   "cell_type": "code",
   "execution_count": 76,
   "id": "2452078c-3c21-49b3-9edb-2278302335bd",
   "metadata": {},
   "outputs": [
    {
     "data": {
      "text/plain": [
       "tensor([[1., 1., 1., 1., 1.],\n",
       "        [0., 1., 1., 1., 1.],\n",
       "        [0., 0., 1., 1., 1.],\n",
       "        [0., 0., 0., 1., 1.],\n",
       "        [0., 0., 0., 0., 1.]])"
      ]
     },
     "execution_count": 76,
     "metadata": {},
     "output_type": "execute_result"
    }
   ],
   "source": [
    "# Upper Triangle\n",
    "out = torch.triu(torch.ones(5, 5))\n",
    "out"
   ]
  },
  {
   "cell_type": "code",
   "execution_count": 77,
   "id": "7fe5dac0-0282-42f8-a72b-09578d3ae633",
   "metadata": {},
   "outputs": [
    {
     "data": {
      "text/plain": [
       "tensor([[0., -inf, -inf, -inf, -inf],\n",
       "        [0., 0., -inf, -inf, -inf],\n",
       "        [0., 0., 0., -inf, -inf],\n",
       "        [0., 0., 0., 0., -inf],\n",
       "        [0., 0., 0., 0., 0.]])"
      ]
     },
     "execution_count": 77,
     "metadata": {},
     "output_type": "execute_result"
    }
   ],
   "source": [
    "out = torch.zeros(5, 5).masked_fill(torch.tril(torch.ones(5, 5)) == 0,float('-inf'))\n",
    "out"
   ]
  },
  {
   "cell_type": "code",
   "execution_count": 78,
   "id": "44d3f8a4-9ca5-4030-8bd5-fcee1010c3fd",
   "metadata": {},
   "outputs": [
    {
     "data": {
      "text/plain": [
       "tensor([[1., 0., 0., 0., 0.],\n",
       "        [1., 1., 0., 0., 0.],\n",
       "        [1., 1., 1., 0., 0.],\n",
       "        [1., 1., 1., 1., 0.],\n",
       "        [1., 1., 1., 1., 1.]])"
      ]
     },
     "execution_count": 78,
     "metadata": {},
     "output_type": "execute_result"
    }
   ],
   "source": [
    "torch.exp(out)"
   ]
  },
  {
   "cell_type": "code",
   "execution_count": 84,
   "id": "3b12584e-16d4-4cc2-b86c-cfdc96cafb65",
   "metadata": {},
   "outputs": [
    {
     "data": {
      "text/plain": [
       "torch.Size([4, 3, 2])"
      ]
     },
     "execution_count": 84,
     "metadata": {},
     "output_type": "execute_result"
    }
   ],
   "source": [
    "input = torch.zeros(2, 3, 4)\n",
    "out = input.transpose(0, 2) # swap zeroth to twos position\n",
    "out.shape"
   ]
  },
  {
   "cell_type": "code",
   "execution_count": 87,
   "id": "071d2660-643b-4fc2-8dc1-54828a74779e",
   "metadata": {},
   "outputs": [
    {
     "data": {
      "text/plain": [
       "tensor([[1, 2, 3],\n",
       "        [4, 5, 6],\n",
       "        [7, 8, 8]])"
      ]
     },
     "execution_count": 87,
     "metadata": {},
     "output_type": "execute_result"
    }
   ],
   "source": [
    "tensor1 = torch.tensor([1, 2, 3])\n",
    "tensor2 = torch.tensor([4, 5, 6])\n",
    "tensor3 = torch.tensor([7, 8, 8])\n",
    "\n",
    "# Stack tensor in a new dimension Result 2D Matrix\n",
    "stacked = torch.stack([tensor1, tensor2, tensor3])\n",
    "stacked"
   ]
  },
  {
   "cell_type": "code",
   "execution_count": 89,
   "id": "2b352d1d-b3e5-4092-bd73-b1f897757d36",
   "metadata": {},
   "outputs": [
    {
     "name": "stdout",
     "output_type": "stream",
     "text": [
      "tensor([-0.3411, -8.1059,  6.7075], grad_fn=<SqueezeBackward4>)\n"
     ]
    }
   ],
   "source": [
    "# a simple neural network operation here nn is neural network\n",
    "# X is input and y is output\n",
    "# then (wi * xi + bias = y)\n",
    "\n",
    "import torch.nn as nn\n",
    "\n",
    "sample = torch.tensor([10., 10., 10.])\n",
    "linear = nn.Linear(3, 3, bias=False) # A linear layer (nn.Linear) is initialized with input size 3 and output size 3\n",
    "print(linear(sample)) # Apply linear transformation"
   ]
  },
  {
   "cell_type": "code",
   "execution_count": 92,
   "id": "ef1a43d0-aca7-4a55-b090-95f36f3884fd",
   "metadata": {},
   "outputs": [
    {
     "data": {
      "text/plain": [
       "tensor([0.0900, 0.2447, 0.6652])"
      ]
     },
     "execution_count": 92,
     "metadata": {},
     "output_type": "execute_result"
    }
   ],
   "source": [
    "import torch.nn.functional as F\n",
    "\n",
    "sample = torch.tensor([1.0, 2.0, 3.0])\n",
    "\n",
    "# Apply softmax function\n",
    "softmax_output = F.softmax(sample, dim=0)\n",
    "softmax_output"
   ]
  },
  {
   "cell_type": "code",
   "execution_count": 94,
   "id": "67dece36-759c-47f7-93ee-09f7d41e09ee",
   "metadata": {},
   "outputs": [
    {
     "data": {
      "text/plain": [
       "tensor([[-0.0568, -0.3937, -0.1040,  1.3729, -0.8653,  0.0201,  0.5584,  1.4915,\n",
       "          0.2536, -0.0843,  0.8097, -0.5479, -2.1831, -1.1142, -0.7753, -1.1672,\n",
       "         -0.5340,  1.2971,  0.4993, -0.3103, -0.5322, -0.5331,  0.2120,  0.9571,\n",
       "         -1.2293,  1.2482, -1.3824,  0.4866,  1.5308,  0.6216, -0.0806, -0.2970,\n",
       "          0.4690,  0.4203, -0.5952,  0.9748, -0.9048,  0.2888,  1.6697,  0.8234,\n",
       "         -0.0300,  0.2472, -0.0619, -0.8756, -0.5755, -0.0420, -0.7745,  0.2899,\n",
       "         -0.3174, -0.0972,  0.1267, -0.4607, -1.5788, -1.2451, -0.9752,  0.2186,\n",
       "         -0.3348,  0.5167, -0.1306, -1.5425,  1.0280,  0.5724,  0.7064,  0.6371,\n",
       "          1.9467, -0.6457,  0.8569,  1.9493, -0.7670,  0.9770,  1.8694, -0.7362,\n",
       "          0.9605, -0.0134,  0.1968,  0.3802, -1.0918, -1.2879, -1.4930,  0.4538,\n",
       "          0.6627,  0.8338,  0.5065, -1.0885,  0.3996,  0.8297, -1.4113,  0.7289,\n",
       "         -0.4543,  0.3679,  1.1621,  0.2015, -1.7052,  0.8421, -0.8082, -1.3370,\n",
       "         -0.3578, -1.0553,  0.0293,  1.1190],\n",
       "        [ 0.1398, -0.7988,  0.0607, -0.1546,  0.7962, -0.5826, -1.4906,  1.3142,\n",
       "          0.5352, -1.9509,  2.0461, -0.1562,  1.1413,  0.1771, -1.2407, -0.8591,\n",
       "          1.0957,  0.2353,  0.9317,  2.3357, -0.0793,  0.7475,  0.3759, -0.1784,\n",
       "         -0.1735, -1.2074,  1.3553,  0.5638,  0.3171,  0.3267,  0.0495, -0.0214,\n",
       "         -0.8360, -0.9366, -1.5616, -0.2121, -0.5048,  1.0007, -0.8285, -0.3919,\n",
       "          0.2857,  0.0217,  1.4182, -0.1713,  1.4273, -1.0113, -0.3608,  0.2438,\n",
       "         -0.5415,  0.3639, -0.0665, -0.8680,  2.0062,  1.9381, -0.3732, -0.5290,\n",
       "         -0.2953, -0.1650,  0.2104,  0.7815,  0.5407,  1.0039, -1.1144,  0.7951,\n",
       "         -0.5291,  0.5213,  0.9624,  1.6029, -0.7365, -1.9288, -0.8525, -0.8960,\n",
       "         -0.1124,  1.0506, -1.2015, -1.4003,  1.4713,  1.3468,  0.4539, -0.6846,\n",
       "          1.0845,  0.8266,  0.3397,  0.8813,  0.5518, -0.4921,  1.0825, -0.2918,\n",
       "          0.4092, -0.0572, -1.5104,  0.6774, -0.5205,  0.0190,  1.2731,  0.8143,\n",
       "         -0.8583,  0.5208, -1.4891, -1.5531],\n",
       "        [-0.1607,  0.9784,  0.9106, -1.2582, -0.7078,  0.6434,  1.0860,  0.5399,\n",
       "         -0.7677, -0.7191, -0.0922, -1.5379, -0.0852, -0.6266, -0.6412,  0.6378,\n",
       "          0.5770,  0.7997, -1.7952,  0.0384,  0.0885,  0.7190,  1.0696, -0.5564,\n",
       "         -0.0395, -0.5283, -2.2091,  0.5243, -1.1469, -0.6515, -0.4806,  1.4979,\n",
       "         -0.4978, -1.0005,  0.2147, -0.2681,  0.9390, -0.5117, -0.8514,  0.0465,\n",
       "         -0.7403,  1.7355,  0.8521, -0.4381, -2.1114, -0.6616, -0.5124,  0.8453,\n",
       "         -0.2055, -0.2692,  1.7391, -2.6472,  0.1204,  0.9239,  0.1715,  0.5480,\n",
       "         -0.8927, -1.5129,  0.8865, -1.2747,  2.4173, -1.4816,  0.9648,  0.7722,\n",
       "         -0.7875, -1.7914, -0.5529, -1.4313,  0.9362,  1.1972,  0.7048, -0.6602,\n",
       "          1.2773, -0.6544, -0.8305,  0.2541, -1.1287, -1.2887,  0.7299, -1.0414,\n",
       "         -0.4664, -0.3757,  0.1215,  0.4279,  0.2221, -0.5496, -0.5016, -0.0115,\n",
       "          0.4605, -1.5869,  2.6593,  0.2807, -0.3853, -0.7123, -3.6836, -0.7710,\n",
       "          1.1449,  0.1357, -0.9477, -1.0613],\n",
       "        [-1.8276, -0.5246,  0.5896, -0.1598,  0.4602, -0.3671,  0.1701,  1.2700,\n",
       "          0.4677, -0.0213, -1.0507, -1.3152,  0.4027,  1.8269, -0.6615,  0.4406,\n",
       "         -0.0351,  0.6083, -1.0341, -0.9335, -0.0381,  0.0829,  0.2675, -1.6832,\n",
       "         -0.3903, -0.2881, -0.1081, -0.0925, -0.2668, -0.9670,  0.8007, -0.2605,\n",
       "          0.4678,  0.3577, -0.9509, -2.4636,  0.7651, -0.2788,  1.6447,  0.6811,\n",
       "          0.3369,  0.3037, -0.0907, -0.6917,  0.2526,  1.5616, -0.0932, -1.0097,\n",
       "          1.3439,  1.2583, -0.0817,  1.3923,  0.8503, -1.9323, -0.0403,  0.7033,\n",
       "         -0.0217,  1.1764,  2.1565,  0.3451,  0.2172, -0.5986, -1.3808,  0.5874,\n",
       "         -0.0720, -0.5090,  1.1202, -1.6766,  0.7653,  0.1047, -1.0837, -1.6025,\n",
       "          0.4150,  0.9936,  0.7091,  0.6921,  0.3624,  0.5508,  0.3211, -0.0689,\n",
       "          1.6518, -0.2395,  1.1887, -0.8717,  0.5198, -0.9411,  2.1268, -0.5899,\n",
       "         -1.6366,  0.1045, -0.2964, -0.6840,  0.5115, -1.8795, -0.2178,  0.1141,\n",
       "          0.1474, -0.3812,  0.2574,  0.2505]], grad_fn=<EmbeddingBackward0>)"
      ]
     },
     "execution_count": 94,
     "metadata": {},
     "output_type": "execute_result"
    }
   ],
   "source": [
    "# init a embedding layer use for code words/char in a vector each vector represent a word \n",
    "# use for semantic relationships between words based on their context in a corpus\n",
    "\n",
    "# Define the vocabulary size and embedding dimensions\n",
    "vocab_size = 10000  # Number of unique words or characters in the vocabulary\n",
    "embedding_dim = 100  # The dimension of each word's or character's embedding vector\n",
    "\n",
    "# Create an Embedding layer\n",
    "embedding = nn.Embedding(vocab_size, embedding_dim)\n",
    "\n",
    "# Input indices\n",
    "input_indices = torch.LongTensor([1, 5, 3, 2])\n",
    "\n",
    "# Apply embedding layer\n",
    "output = embedding(input_indices)\n",
    "output"
   ]
  },
  {
   "cell_type": "code",
   "execution_count": null,
   "id": "c2b551ec-a18d-4f10-9ad8-4c3b28a5bdb5",
   "metadata": {},
   "outputs": [],
   "source": []
  }
 ],
 "metadata": {
  "kernelspec": {
   "display_name": "cuda-gpt",
   "language": "python",
   "name": "gpt-model-from-scratch"
  },
  "language_info": {
   "codemirror_mode": {
    "name": "ipython",
    "version": 3
   },
   "file_extension": ".py",
   "mimetype": "text/x-python",
   "name": "python",
   "nbconvert_exporter": "python",
   "pygments_lexer": "ipython3",
   "version": "3.11.5"
  }
 },
 "nbformat": 4,
 "nbformat_minor": 5
}
