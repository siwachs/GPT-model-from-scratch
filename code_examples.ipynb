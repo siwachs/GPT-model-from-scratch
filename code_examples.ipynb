{
 "cells": [
  {
   "cell_type": "code",
   "execution_count": 3,
   "id": "d72895b5-95ae-49eb-b4ea-c30a145d1ea3",
   "metadata": {},
   "outputs": [
    {
     "name": "stdout",
     "output_type": "stream",
     "text": [
      "cuda\n"
     ]
    }
   ],
   "source": [
    "import torch # ML framework: It use tensor DS for math and calculus\n",
    "import torch.nn as nn\n",
    "from torch.nn import functional as F\n",
    "\n",
    "device = 'cuda' if torch.cuda.is_available() else 'cpu'\n",
    "print(device)"
   ]
  },
  {
   "cell_type": "code",
   "execution_count": null,
   "id": "9f27f929-b64a-4778-b4e4-6a75e43652d1",
   "metadata": {},
   "outputs": [],
   "source": [
    "# nn.Module is a fundamental building block used to create neural network architectures. It's a base class for all neural network modules.\n",
    "# provides methods for various functionalities like managing parameters, defining layers, and executing forward propagation.\n",
    "class BigramLanguageModel(nn.Module):\n",
    "    def __init__(self, vocab_size):\n",
    "        super().__init__()\n",
    "        self.token_embedding_table = nn.Emedding(vocab_size, vocab_size)\n",
    "    \n",
    "    def forward(self, index, targets):\n",
    "        logits = self.token_embedding_table(index)\n",
    "        B, T, C = logits.shape # Batch, Time, Channels is vocab_size\n",
    "        logits = logits.view(B*T, C) # Make a tensor with [B*T, C] because of cross_entropy\n",
    "        targets = targets.view(B*T)\n",
    "        loss = F.cross_entropy(logits, targets) # Accept input (C), (N,C)\n",
    "        \n",
    "        return logits # Prob distributions of target"
   ]
  }
 ],
 "metadata": {
  "kernelspec": {
   "display_name": "Python 3 (ipykernel)",
   "language": "python",
   "name": "python3"
  },
  "language_info": {
   "codemirror_mode": {
    "name": "ipython",
    "version": 3
   },
   "file_extension": ".py",
   "mimetype": "text/x-python",
   "name": "python",
   "nbconvert_exporter": "python",
   "pygments_lexer": "ipython3",
   "version": "3.11.5"
  }
 },
 "nbformat": 4,
 "nbformat_minor": 5
}
